{
  "nbformat": 4,
  "nbformat_minor": 0,
  "metadata": {
    "colab": {
      "provenance": []
    },
    "kernelspec": {
      "name": "python3",
      "display_name": "Python 3"
    },
    "language_info": {
      "name": "python"
    }
  },
  "cells": [
    {
      "cell_type": "code",
      "execution_count": null,
      "metadata": {
        "id": "Xp-l64zWpRuY"
      },
      "outputs": [],
      "source": [
        "'''Simulação de Dados: Crie uma função que simule o lançamento de dois dados de seis lados (valores de 1 a 6).\n",
        "Esta função deve retornar a soma dos resultados dos dados.'''\n",
        "\n",
        "# Essa função tem como objetivo de trazer 2 numeros randomizados de 1 a 6, e depois somar esses dois números.\n",
        "\n",
        "import numpy as np\n",
        "\n",
        "def lancamento_dados():\n",
        "  #trás um número randomizado de 1 a 6.\n",
        "    dado1 = np.random.randint(1, 7)\n",
        "    dado2 = np.random.randint(1, 7)\n",
        "\n",
        "    return dado1 + dado2\n"
      ]
    },
    {
      "cell_type": "code",
      "source": [
        "'''Múltiplas Simulações: Use a função do passo 1 para simular um grande número de jogos de dados (digamos, 1000 jogos).\n",
        "Armazene o resultado de cada jogo em um array NumPy.\n",
        "'''\n",
        "\n",
        "# criado uma variavel de vezes que deve ser rodado o código e outra com uma lista vazia, para entrar o resultado.\n",
        "vezes = 1000\n",
        "resultados = []\n",
        "# Loop toda vez que gerar um resultado sera adicionado a lista de resultados\n",
        "for vezes in range(vezes):\n",
        "  # pega a função de lançamento de dado e armazena o resultado _jogo\n",
        "    resultado_jogo = lancamento_dados()\n",
        "    # coloca o resultado na lista resultados\n",
        "    resultados.append(resultado_jogo)\n",
        "# faz a conversão da lista resultados em um array\n",
        "resultados = np.array(resultados)\n",
        "\n",
        "print(f\"{resultados}\")\n"
      ],
      "metadata": {
        "colab": {
          "base_uri": "https://localhost:8080/"
        },
        "id": "HiU_k3KYpVeO",
        "outputId": "84ea5e3d-e197-4759-92b3-3d9b7c8d1496"
      },
      "execution_count": null,
      "outputs": [
        {
          "output_type": "stream",
          "name": "stdout",
          "text": [
            "[ 7  6  4  9  9  5  3  8  8  7  8 11  7  4  9  4  6  5  7  6  3  3  9  7\n",
            "  2  7 11  7  6  7 10  4  7  5  8  7  8  4  8  7 11  8 10  7  5  4  7  8\n",
            "  3  7  7  6  2  7  7  7 11 11  6  5  6  7  5  8  4  8  5  2  7  9  3  4\n",
            "  7  8  4  6  5  5  9  7  8  8  2  8  7  7 11  8  8  8 12  5  4  5  9  7\n",
            "  3  8  5  7  3  9  8 10  4 10 10 10  7  6  6  6  3 12  8  6 11  2  7  9\n",
            "  7  7  4  7  5  8  8  5 11  7  3  9  5  7  5  8  3 10  2  4  7 11  9 10\n",
            "  8  5  9  7  6  5  8  5  2  9  7  4  6 10  8  5  5  2  7  6  8 10  9  5\n",
            "  7  3  4  8  7  5  3 10  4 11  6  3 10  7  6  2  4  7  6  9  2  6  8  9\n",
            " 11  7  9  7  5  6  5  5  8 10  3  3  6  8  2 10  8  5  6  6  6  5  3  9\n",
            "  8  2  8  7  7  8  6  6  7  6  6  8 11  7 11  7  3  9  3  8  7  5  4  4\n",
            "  5  9  5  2 10  5  7  7  6  8  8 12  6  8  8 10 11  7  9 10 10  6  6  8\n",
            " 10  8  9  6  6  4  2  7  5  9  7  8  8  3  2  4  7  8  4  7  8  5  7 10\n",
            "  8  6  5 12 10  3 12  6  8  6  4  8  8  2  8 10  7  6  7  7  4  9 11  7\n",
            " 11  7 10  5  7  8 11  7  8  8 10  7  4  7  8  8  4  9  6  2  6 11  5  7\n",
            " 11  6  6  2 11  9 10  8  5  7  7  8  4  8  7  7  7  9 10  9 11  5  7  6\n",
            "  8 10  8  6  7  5  5  4  2  7  8  8  6  8  4  8  5  6  9 11  7 10 10  7\n",
            "  5  5  4  7 10  6  6  7  5  2  3 10 11 10  4 12  6  8  7  9  6  5  8  7\n",
            "  8  5  8  7 10  5  8  2  6  9  4 11  2  4  7  6  6  9  9 11 10  8 10  3\n",
            " 10 10  9  6  8  4  8  4  5  5  6  9  6  8  7  8  7  9  6  8  5  9  3 10\n",
            "  5  8 12  7  6  5  6  9  8  4  3  7  6  7  2 10  9  7  3  7 11  6  3  3\n",
            " 10 10  3 11 11  5  8  7  8 11  5  5  7  5  5  6  4  8 10  8  7  5  6  8\n",
            "  3  5  6  8  6  6 11  5  8  7 12  9  7  6  9  7  8 11  3  5  7  6  8  9\n",
            "  6  5  3  6  6  5  3  4  3  7  3  7  5  8 11  4  7  6  3 12 12 11  4 11\n",
            " 10  9  9  3  8  3 11  8  4  6  4  6  8  4 12  8  9 12  8  4  5  5  5  8\n",
            " 10  6 10  7  4  9  9  8  9  8  3 10  8  7  7  6 12  7  3  9  7  7  6  5\n",
            " 10 11  7  8  6  7  4  9  7  4  8  7  7  7  8 10  5 11  7  7  7  7  7  9\n",
            "  8  4  3  8  3  8  7  2  4  5  6  3  7 12  9  8  3  5  5  5 11  4 12  2\n",
            "  8  8  4  6  4  6  9 11  5  5  7 10  5  9  8 12  9  4  7  4  8  7  7  7\n",
            " 10  6  8  9  9  7  7  7  9  7 11  5  8  7  9  8  7  6  2 11  8  9  3  8\n",
            "  5  7 12  6 11 10  5  7  5  7  6  4  7  8  7  3  7  5  3  4  6  4  8  7\n",
            "  8  7  8 11  5  6  8  6  4  8  6  7  6  4 12 10  6 10  7  8  9  9 11  7\n",
            "  8  6  6 10  3 11  3  8  7  7  7  8  4  6  9  3  7 10 11  4 10  5  2  6\n",
            "  8 10  5  7  9  8  9  9  4  8  6  8  8  7  3  6  3  5  8  7  7 10  9  2\n",
            "  8  4  5  7  9  4  8  8  6 10  8  2  7 12  6 11  3  4  9  8  7  9  7  7\n",
            " 11  6  4  5  8 10  2  4  6  7 10  6  8  7  4  3  4  6  3 11  8  7  9 11\n",
            "  4  3  5  8  6  8  8  6  2  9  7 10  7  3  8  7  4  4  8  8  7  3  7  6\n",
            "  3  4  5  9  8  3 10  8  4  9  5  2  8  6  6  3  5  8  5  8  3  7 11  7\n",
            "  6 11  7  7  2  5  3  7  6  5  9  6  6  7 12  7  5  8  7 12  8  4  3  7\n",
            "  8  7 10  5 10  7  5  5  9  9  9  5  3  3  3  7 11  6 10  3  2 11  6  5\n",
            "  6  8 11  3  3 10  6  3 11  9 10  6  7  8  4  7 12  6  3  6  6  8 10  7\n",
            "  6  8  3  5  9 11 11 11  5 10  8  5  8  9 11  9 10  9  8  7  8  8  9  7\n",
            "  6  9  3  6  4  6  8  4  7  9  5  9  6  9  3  5]\n"
          ]
        }
      ]
    },
    {
      "cell_type": "code",
      "source": [
        "'''A média dos resultados.'''\n",
        "#calcula a média dos resultados o mean consegue fazer uma média com o array\n",
        "media_resultados = np.mean(resultados)\n",
        "print(f\"média dos resultados: {media_resultados:.0f}\")"
      ],
      "metadata": {
        "id": "7eTY-3yUpVap",
        "colab": {
          "base_uri": "https://localhost:8080/"
        },
        "outputId": "8078cfcf-e8a1-436a-9da3-67621383e28b"
      },
      "execution_count": null,
      "outputs": [
        {
          "output_type": "stream",
          "name": "stdout",
          "text": [
            "média dos resultados: 7\n"
          ]
        }
      ]
    },
    {
      "cell_type": "code",
      "source": [
        "'''O lançamento máximo e mínimo.'''\n",
        "\n",
        "#mostra o valor maximo do resultado\n",
        "lancamento_maximo = np.max(resultados)\n",
        "print(f\"Valor maximo resultado: {lancamento_maximo}\")\n",
        "\n",
        "#mostra o valor minimo do resultado\n",
        "lancamento_minimo = np.min(resultados)\n",
        "print(f\"Valor minimo resultado: {lancamento_minimo}\")"
      ],
      "metadata": {
        "colab": {
          "base_uri": "https://localhost:8080/"
        },
        "id": "v4HKfu1ZOV8n",
        "outputId": "937a7860-aca4-4fa7-9c14-7a78adc15302"
      },
      "execution_count": null,
      "outputs": [
        {
          "output_type": "stream",
          "name": "stdout",
          "text": [
            "Valor maximo resultado: 12\n",
            "Valor minimo resultado: 2\n"
          ]
        }
      ]
    },
    {
      "cell_type": "code",
      "source": [
        "''' O número de vezes que cada possível lançamento (2, 3, 4, 5, 6, 7, 8, 9, 10, 11 e 12) ocorreu.'''\n",
        "\n",
        "#ATENÇÃO(não consegui fazer): fiz no chatgpt\n",
        "contagens_lancamentos = np.bincount(resultados)[2:]\n",
        "for i, contagens in enumerate(contagens_lancamentos, start=2):\n",
        "    print(f\"O total de vezes que o resultado foi {i} são: {contagens}\")\n"
      ],
      "metadata": {
        "colab": {
          "base_uri": "https://localhost:8080/"
        },
        "id": "c0zsZZNEOV2u",
        "outputId": "a9442065-17a8-454f-9a00-8847e4c59d56"
      },
      "execution_count": null,
      "outputs": [
        {
          "output_type": "stream",
          "name": "stdout",
          "text": [
            "O total de vezes que o resultado foi 2 são: 34\n",
            "O total de vezes que o resultado foi 3 são: 74\n",
            "O total de vezes que o resultado foi 4 são: 78\n",
            "O total de vezes que o resultado foi 5 são: 106\n",
            "O total de vezes que o resultado foi 6 são: 125\n",
            "O total de vezes que o resultado foi 7 são: 180\n",
            "O total de vezes que o resultado foi 8 são: 162\n",
            "O total de vezes que o resultado foi 9 são: 88\n",
            "O total de vezes que o resultado foi 10 são: 71\n",
            "O total de vezes que o resultado foi 11 são: 60\n",
            "O total de vezes que o resultado foi 12 são: 22\n"
          ]
        }
      ]
    },
    {
      "cell_type": "code",
      "source": [
        "'''Supondo um jogo justo (ou seja, todos os lançamentos são igualmente prováveis), o resultado da sua simulação coincide com essa suposição?\n",
        "Por que sim ou por que não?\n",
        "O que isso significa para um jogador do jogo de dados?\n",
        "'''\n",
        "\n",
        "\n",
        "#ATENÇÃO(não consegui fazer): fiz no chatgpt\n",
        "\n",
        "probabilidade_esperada = 1/6\n",
        "frequencia_relativa = contagem_lancamentos / num_jogos\n",
        "\n",
        "\n",
        "if np.allclose(frequencia_relativa, probabilidade_esperada, atol=0.01):\n",
        "    print(\"\\nOs resultados coincidem com a suposição de um jogo justo.\")\n",
        "else:\n",
        "    print(\"\\nOs resultados não coincidem com a suposição de um jogo justo.\")\n"
      ],
      "metadata": {
        "colab": {
          "base_uri": "https://localhost:8080/"
        },
        "id": "dIZO34ouQ6M-",
        "outputId": "bcc5fb8d-f1a5-4b8a-af18-1f023dadc976"
      },
      "execution_count": null,
      "outputs": [
        {
          "output_type": "stream",
          "name": "stdout",
          "text": [
            "\n",
            "Os resultados não coincidem com a suposição de um jogo justo.\n"
          ]
        }
      ]
    }
  ]
}